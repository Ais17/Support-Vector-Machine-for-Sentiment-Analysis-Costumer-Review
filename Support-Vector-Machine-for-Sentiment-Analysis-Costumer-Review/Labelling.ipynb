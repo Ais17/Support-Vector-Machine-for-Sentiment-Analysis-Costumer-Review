{
 "cells": [
  {
   "cell_type": "code",
   "execution_count": 7,
   "metadata": {
    "scrolled": true
   },
   "outputs": [],
   "source": [
    "import csv\n",
    "import pandas as pd\n",
    "from pandas import Series, DataFrame\n",
    "import numpy as np\n",
    "import json"
   ]
  },
  {
   "cell_type": "code",
   "execution_count": 8,
   "metadata": {},
   "outputs": [],
   "source": [
    "df = pd.read_csv('tokped.csv',encoding='utf-8',error_bad_lines=False)"
   ]
  },
  {
   "cell_type": "code",
   "execution_count": 9,
   "metadata": {},
   "outputs": [],
   "source": [
    "pos_words_list = [\"acungan jempol\", \"adaptif\",\"adaptif\",\"adil\",\"afinitas\",\"afirmasi\",\"agilely\",\"agung\",\n",
    "                  \"ahli\",\"ajaib\",\"aklamasi\",\"akurat\",\"alhamdulillah\",\"aman\",\"amanah\",\"amat\",\"andal\",\"ambisius\",\n",
    "                  \"aneh\",\"anggun\",\"angkat\",\"antusias\",\"apik\",\"apresiasi\",\"asli\",\"aspirasi\",\"asyik\",\"bagus\",\"bahagia\",\n",
    "                  \"baik\",\"bakat\",\"bangga\",\"bantuan\",\"banyak\",\"barang baru\",\"bebas\",\"bekerja keras\",\"benar\",\"beradaptasi\",\"berani\",\"berarti\",\"berbaik hati\",\"berbakat\"\n",
    "                  \"berbudi luhur\",\"bercahaya\",\"bercanda\",\"berdaya cipta\",\"berdedikasi\",\"berdikari\",\"bergaya\",\"bergembira\",\"berguna\",\"berhasil\",\n",
    "                  \"berisi\",\"berjanji\",\"berkapasitas besar\",\"berkat\",\"berkeinginan\",\"berkelakuan baik\",\"berkembang\",\"berkelanjutan\",\"berkeyakinan\",\n",
    "                  \"berkilauan\",\"berkualitas\",\"bermanfaat\",\"bernilai\",\"berpengaruh\",\"bersatu\",\"bersenang-senang\",\"bersih\",\"bersyukur\",\"bertanggung jawab\",\"berterimakasih\",\"beruntung\",\n",
    "                  \"besar\",\"biaya rendah\",\"bijaksana\",\"bisa digunakan\",\"bonus\",\"brilian\",\"cakap\",\"cashbacks\",\"cekatan\",\"cemerlang\",\"cepat\",\n",
    "                  \"cerdas\",\"cermat\",\"cocok\",\"cukup\",\"damai\",\"dapat dipercaya\",\"daya tarik\",\"diakui\",\"dibaca\",\"diberikan\",\"dicapai\",\"didukung\",\"digunakan\",\n",
    "                  \"dikelola dengan baik\",\"dilengkapi\",\"dimengerti\",\"dipercaya\",\"direkomendasikan\",\"ditingkatkan\",\"diverifikasi\",\"dukungan\",\n",
    "                  \"efektif\",\"efisien\",\"ekonomis\",\"elegan\",\"etis\",\"fantastis\",\"favorit\",\"fleksibel\",\"gagah\",\"gembira\",\"gesit\",\"gigih\",\"gratis\",\"hadiah\",\"handal\",\"harga diri\",\n",
    "                  \"harga rendah\",\"harmonis\",\"hasil karya\",\"hebat\",\"hati-hati\",\"hemat\",\"hore\",\"hubungan\",\"ideal\",\"idola\",\"iman\",\"imut\",\"indah\",\"inovasi\",\"inovatif\",\"inspirasi\",\"instrumental\",\n",
    "                  \"intuitif\",\"istimewa\",\"jaminan\",\"jelas\",\"jempolan\",\"jenius\",\"juara\",\"jujur\",\"kagum\",\"karismatik\",\"karya\",\"kasih sayang\",\"kaya\",\"keajaiban\",\"keanggunan\",\"keaslian\",\n",
    "                  \"kebahagiaan\",\"kebaikan\",\"kebanggaan\",\"kebaruan\",\"kebenaran\",\"keberanian\",\"keberhasilan\",\"kebersamaan\",\"kebersihan\",\"keberuntungan\",\"kebetulan\",\"kebijaksanaan\",\"kecantikan\",\n",
    "                  \"kecepatan\",\"kecerdikan\",\"keenakan\",\"kegembiraan\",\"keindahan\",\"keinginan\",\"kejayaan\",\"kejelasan\",\"kekaguman\",\"kekal\",\"kelangsungan hidup\",\"kelas atas\",\"kelayakan\",\"kelezatan\",\n",
    "                  \"kelincahan\",\"kelucuan\",\"kemajuan\",\"kemakmuran\",\"kemampuan\",\"kematangan\",\"kemenangan\",\"kemudahan\",\"kemurahan hati\",\"kenyamanan\",\"kepentingan\",\"kepercayaan\",\n",
    "                  \"kepuasan\",\"kepuasan diri\",\"keramahan\",\"keren\",\"kerendahan hati\",\"kesabaran\",\"kesayangan\",\"kesejahteraan\",\"kesempurnaan\",\"kesenangan\",\"kesetiaan\",\"kesopanan\",\"kestabilan\",\n",
    "                  \"kesucian\",\"kesukaan\",\"kesungguhan\",\"ketajaman\",\"keteguhan\",\"ketekunan\",\"ketenangan\",\"ketercocokan\",\"ketidakberpihakan\",\"ketrampilan\",\"keuletan\",\"keunggulan\",\"keuntungan\",\n",
    "                  \"khusus\",\"klasik\",\"koherensi\",\"kompak\",\"kompetitif\",\"konsisten\",\"kontras\",\"kontribusi\",\"kooperatif\",\"kreatif\",\"kualitas tinggi\",\"kuat\",\"lancar\",\"lapang\",\"layak\",\"lebih baik\",\n",
    "                  \"lebih cepat\",\"lebih disukai\",\"lebih murah\",\"lebih suka\",\"lemah lembut\",\"lezat\",\"logis\",\"loyalitas\",\"luar biasa\",\"lumayan\",\"maju\",\"mampu\",\"manfaat\",\"manis sekali\",\"mantab\",\"mapan\",\n",
    "                  \"masuk akal\",\"mawas\",\"melampaui\",\"melengkapi\",\"melindungi\",\"memadai\",\"memastikan\",\"membantu\",\"membayar\",\"memberdayakan\",\"membiasakan\",\"membuktikan\",\"memenuhi\",\"memihak\",\"memikat hati\",\n",
    "                  \"memperbaiki\",\"mempercayakan\",\"memperkaya\",\"memperkuat\",\"mempesona\",\"memuaskan\",\"memudahkan\",\"memuji\",\"memukau\",\"menakjubkan\",\"menang\",\"menarik\",\"menawan\",\"mencukupi\",\"mendapatkan\",\n",
    "                  \"mendukung\",\"menegaskan\",\"menentukan\",\"menerima\",\"mengagumkan\",\"menganggap\",\"\",\"\",\"\",\"\",\"\",\"\",\"\",\"\",\"\",\"\",\"\""
   ]
  },
  {
   "cell_type": "code",
   "execution_count": 19,
   "metadata": {},
   "outputs": [],
   "source": [
    "neg_words_list = [\"palsu\", \"absurd\", \"acak\", \"acak-acakan\", \"acuh\", \"acuh tak acuh\", \"adiktif\", \"agresif\", \"aib\", \"alasan\", \"alergi\", \"amat ketakutan\", \"amat panas\", \"ambigu\", \"ambivalensi\", \"amoral\", \"ampun\", \"amuk\", \"anak nakal\", \"anarki\", \"ancaman\",\n",
    "                 \"aneh\", \"akalan\",\"barang\",\"bercanda\",\"berdaya cipta\",\"berdedikasi\",\"berdikari\",\"bergaya\",\"bergembira\",\"berguna\",\"berhasil\",\n",
    "                  \"berisi\",\"berjanji\",\"berkapasitas besar\",\"berkat\",\"berkeinginan\",\"berkelakuan baik\",\"berkembang\",\"berkelanjutan\",\"berkeyakinan\",\n",
    "                  \"berkilauan\",\"berkualitas\",\"bermanfaat\",\"bernilai\",\"berpengaruh\",\"bersatu\",\"bersenang-senang\",\"bersih\",\"bersyukur\",\"bertanggung jawab\",\"berterimakasih\",\"beruntung\",\n",
    "                  \"besar\",\"biaya rendah\",\"bijaksana\",\"bisa digunakan\",\"bonus\",\"brilian\",\"cakap\",\"cashbacks\",\"cekatan\",\"cemerlang\",\"cepat\",\n",
    "                  \"cerdas\",\"cermat\",\"cocok\",\"cukup\",\"damai\",\"dapat dipercaya\",\"daya tarik\",\"diakui\",\"dibaca\",\"diberikan\",\"dicapai\",\"didukung\",\"digunakan\",\n",
    "                  \"dikelola dengan baik\",\"dilengkapi\",\"dimengerti\",\"dipercaya\",\"direkomendasikan\",\"ditingkatkan\",\"diverifikasi\",\"dukungan\",\n",
    "                  \"efektif\",\"efisien\",\"ekonomis\",\"elegan\",\"etis\",\"fantastis\",\"favorit\",\"fleksibel\",\"gagah\",\"gembira\",\"gesit\",\"gigih\",\"gratis\",\"hadiah\",\"handal\",\"harga diri\",\n",
    "                  \"harga rendah\",\"harmonis\",\"hasil karya\",\"hebat\",\"hati-hati\",\"hemat\",\"hore\",\"hubungan\",\"ideal\",\"idola\",\"iman\",\"imut\",\"indah\",\"inovasi\",\"inovatif\",\"inspirasi\",\"instrumental\",\n",
    "                  \"intuitif\",\"istimewa\",\"jaminan\",\"jelas\",\"jempolan\",\"jenius\",\"juara\",\"jujur\",\"kagum\",\"karismatik\",\"karya\",\"kasih sayang\",\"kaya\",\"keajaiban\",\"keanggunan\",\"keaslian\",\n",
    "                  \"kebahagiaan\",\"kebaikan\",\"kebanggaan\",\"kebaruan\",\"kebenaran\",\"keberanian\",\"keberhasilan\",\"kebersamaan\",\"kebersihan\",\"keberuntungan\",\"kebetulan\",\"kebijaksanaan\",\"kecantikan\",\n",
    "                  \"kecepatan\",\"kecerdikan\",\"keenakan\",\"kegembiraan\",\"keindahan\",\"keinginan\",\"kejayaan\",\"kejelasan\",\"kekaguman\",\"kekal\",\"kelangsungan hidup\",\"kelas atas\",\"kelayakan\",\"kelezatan\",\n",
    "                  \"kelincahan\",\"kelucuan\",\"kemajuan\",\"kemakmuran\",\"kemampuan\",\"kematangan\",\"review\",\"kemudahan\",\"kemurahan hati\",\"kenyamanan\",\"kepentingan\",\"kepercayaan\",\n",
    "                  \"kepuasan\",\"kepuasan diri\",\"keramahan\",\"keren\",\"kerendahan hati\",\"kesabaran\",\"kesayangan\",\"kesejahteraan\",\"kesempurnaan\",\"kesenangan\",\"kesetiaan\",\"kesopanan\",\"kestabilan\",\n",
    "                  \"kesucian\",\"kesukaan\",\"kesungguhan\",\"ketajaman\",\"keteguhan\",\"ketekunan\",\"ketenangan\",\"ketercocokan\",\"ketidakberpihakan\",\"ketrampilan\",\"keuletan\",\"keunggulan\",\"keuntungan\"]"
   ]
  },
  {
   "cell_type": "code",
   "execution_count": 20,
   "metadata": {},
   "outputs": [
    {
     "data": {
      "text/html": [
       "<div>\n",
       "<style scoped>\n",
       "    .dataframe tbody tr th:only-of-type {\n",
       "        vertical-align: middle;\n",
       "    }\n",
       "\n",
       "    .dataframe tbody tr th {\n",
       "        vertical-align: top;\n",
       "    }\n",
       "\n",
       "    .dataframe thead th {\n",
       "        text-align: right;\n",
       "    }\n",
       "</style>\n",
       "<table border=\"1\" class=\"dataframe\">\n",
       "  <thead>\n",
       "    <tr style=\"text-align: right;\">\n",
       "      <th></th>\n",
       "      <th>Komentar</th>\n",
       "      <th>labels</th>\n",
       "    </tr>\n",
       "  </thead>\n",
       "  <tbody>\n",
       "    <tr>\n",
       "      <th>0</th>\n",
       "      <td>dapet mas barang pagi malam dasar anak</td>\n",
       "      <td>negative</td>\n",
       "    </tr>\n",
       "    <tr>\n",
       "      <th>1</th>\n",
       "      <td>flash sale akalan rajin mantengin jam pagi mal...</td>\n",
       "      <td>negative</td>\n",
       "    </tr>\n",
       "    <tr>\n",
       "      <th>2</th>\n",
       "      <td>lihat review orang orang pas beli hp harga fla...</td>\n",
       "      <td>negative</td>\n",
       "    </tr>\n",
       "    <tr>\n",
       "      <th>3</th>\n",
       "      <td>nyobain cuma iseng pembayaran mau jam langsung...</td>\n",
       "      <td>positive</td>\n",
       "    </tr>\n",
       "    <tr>\n",
       "      <th>4</th>\n",
       "      <td>pemberi harapan palsu doang kena tipu kayak ke...</td>\n",
       "      <td>positive</td>\n",
       "    </tr>\n",
       "  </tbody>\n",
       "</table>\n",
       "</div>"
      ],
      "text/plain": [
       "                                            Komentar    labels\n",
       "0             dapet mas barang pagi malam dasar anak  negative\n",
       "1  flash sale akalan rajin mantengin jam pagi mal...  negative\n",
       "2  lihat review orang orang pas beli hp harga fla...  negative\n",
       "3  nyobain cuma iseng pembayaran mau jam langsung...  positive\n",
       "4  pemberi harapan palsu doang kena tipu kayak ke...  positive"
      ]
     },
     "execution_count": 20,
     "metadata": {},
     "output_type": "execute_result"
    }
   ],
   "source": [
    "pos_words_list = [w.lower() for w in pos_words_list]\n",
    "neg_words_list = [w.lower() for w in neg_words_list]\n",
    "\n",
    "def assign_comments_labels(x):\n",
    "    try:\n",
    "        if any(w in x for w in pos_words_list):\n",
    "            return 'positive'\n",
    "        elif any(w in x for w in neg_words_list):\n",
    "            return 'negative'\n",
    "        else:\n",
    "            return 'neutral'\n",
    "    except:\n",
    "        return 'neutral'\n",
    "\n",
    "df['Komentar'] = df['Komentar'].str.lower()\n",
    "\n",
    "df['labels'] = df['Komentar'].apply(lambda x: assign_comments_labels(x))\n",
    "\n",
    "df[['Komentar','labels']].head(5)"
   ]
  },
  {
   "cell_type": "code",
   "execution_count": null,
   "metadata": {},
   "outputs": [],
   "source": []
  },
  {
   "cell_type": "code",
   "execution_count": null,
   "metadata": {},
   "outputs": [],
   "source": []
  }
 ],
 "metadata": {
  "kernelspec": {
   "display_name": "Python 3",
   "language": "python",
   "name": "python3"
  },
  "language_info": {
   "codemirror_mode": {
    "name": "ipython",
    "version": 3
   },
   "file_extension": ".py",
   "mimetype": "text/x-python",
   "name": "python",
   "nbconvert_exporter": "python",
   "pygments_lexer": "ipython3",
   "version": "3.7.3"
  }
 },
 "nbformat": 4,
 "nbformat_minor": 2
}
