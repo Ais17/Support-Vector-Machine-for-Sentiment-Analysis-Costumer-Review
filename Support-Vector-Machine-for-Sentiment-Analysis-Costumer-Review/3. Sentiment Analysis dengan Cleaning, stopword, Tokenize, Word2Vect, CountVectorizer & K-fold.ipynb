{
 "cells": [
  {
   "cell_type": "code",
   "execution_count": 202,
   "metadata": {},
   "outputs": [],
   "source": [
    "from sklearn.model_selection import train_test_split\n",
    "from sklearn.metrics import accuracy_score\n",
    "from sklearn.naive_bayes import GaussianNB\n",
    "from sklearn.naive_bayes import MultinomialNB\n",
    "from sklearn.metrics import confusion_matrix\n",
    "from sklearn.preprocessing import normalize\n",
    "from sklearn.feature_extraction.text import TfidfVectorizer\n",
    "from sklearn.feature_extraction.text import CountVectorizer\n",
    "from sklearn.linear_model import LinearRegression\n",
    "from sklearn.preprocessing import Imputer\n",
    "from sklearn import preprocessing\n",
    "from nltk.corpus import stopwords\n",
    "from nltk.tokenize import word_tokenize\n",
    "from sklearn.svm import LinearSVC\n",
    "from sklearn.discriminant_analysis import QuadraticDiscriminantAnalysis\n",
    "from sklearn.metrics import confusion_matrix\n",
    "from sklearn.ensemble import RandomForestClassifier, AdaBoostClassifier\n",
    "from sklearn.ensemble import AdaBoostClassifier\n",
    "from sklearn.metrics import classification\n",
    "from sklearn import datasets\n",
    "from sklearn.metrics import classification_report, confusion_matrix\n",
    "from sklearn.model_selection import train_test_split\n",
    "from sklearn import metrics\n",
    "from Sastrawi.StopWordRemover.StopWordRemoverFactory import StopWordRemoverFactory\n",
    "from nltk.stem import PorterStemmer\n",
    "from nltk.tokenize import sent_tokenize, word_tokenize\n",
    "from itertools import cycle\n",
    "from sklearn import svm, datasets\n",
    "from sklearn.metrics import roc_curve, auc\n",
    "from sklearn.model_selection import train_test_split\n",
    "from sklearn.preprocessing import label_binarize\n",
    "from sklearn.multiclass import OneVsRestClassifier\n",
    "from scipy import interp\n",
    "\n",
    "import scipy.stats\n",
    "import nltk\n",
    "import string\n",
    "import sklearn.metrics\n",
    "import pandas as pd\n",
    "from pandas import Series, DataFrame\n",
    "import numpy as np\n",
    "import os\n",
    "import csv\n",
    "import matplotlib.pyplot as plt\n",
    "import nltk"
   ]
  },
  {
   "cell_type": "code",
   "execution_count": 203,
   "metadata": {},
   "outputs": [],
   "source": [
    "df = pd.read_csv('tokped.csv',encoding='utf-8',error_bad_lines=False)\n",
    "df.Status.replace(['Negativ','Positiv'],[0,1],inplace=True)"
   ]
  },
  {
   "cell_type": "code",
   "execution_count": 204,
   "metadata": {},
   "outputs": [
    {
     "data": {
      "text/html": [
       "<div>\n",
       "<style scoped>\n",
       "    .dataframe tbody tr th:only-of-type {\n",
       "        vertical-align: middle;\n",
       "    }\n",
       "\n",
       "    .dataframe tbody tr th {\n",
       "        vertical-align: top;\n",
       "    }\n",
       "\n",
       "    .dataframe thead th {\n",
       "        text-align: right;\n",
       "    }\n",
       "</style>\n",
       "<table border=\"1\" class=\"dataframe\">\n",
       "  <thead>\n",
       "    <tr style=\"text-align: right;\">\n",
       "      <th></th>\n",
       "      <th>No</th>\n",
       "      <th>Komentar</th>\n",
       "      <th>Status</th>\n",
       "    </tr>\n",
       "  </thead>\n",
       "  <tbody>\n",
       "    <tr>\n",
       "      <th>0</th>\n",
       "      <td>1</td>\n",
       "      <td>dapet mas barang pagi malam dasar anak</td>\n",
       "      <td>0</td>\n",
       "    </tr>\n",
       "    <tr>\n",
       "      <th>1</th>\n",
       "      <td>2</td>\n",
       "      <td>flash sale akalan rajin mantengin jam pagi mal...</td>\n",
       "      <td>0</td>\n",
       "    </tr>\n",
       "    <tr>\n",
       "      <th>2</th>\n",
       "      <td>3</td>\n",
       "      <td>lihat review orang orang pas beli hp harga fla...</td>\n",
       "      <td>1</td>\n",
       "    </tr>\n",
       "    <tr>\n",
       "      <th>3</th>\n",
       "      <td>4</td>\n",
       "      <td>nyobain cuma iseng pembayaran mau jam langsung...</td>\n",
       "      <td>1</td>\n",
       "    </tr>\n",
       "    <tr>\n",
       "      <th>4</th>\n",
       "      <td>5</td>\n",
       "      <td>pemberi harapan palsu doang kena tipu kayak ke...</td>\n",
       "      <td>0</td>\n",
       "    </tr>\n",
       "    <tr>\n",
       "      <th>5</th>\n",
       "      <td>6</td>\n",
       "      <td>bukalapak wkwkw tokopedia ketinggalan ulang ta...</td>\n",
       "      <td>1</td>\n",
       "    </tr>\n",
       "    <tr>\n",
       "      <th>6</th>\n",
       "      <td>7</td>\n",
       "      <td>dapet namanya juga flash sale bawa santai dape...</td>\n",
       "      <td>1</td>\n",
       "    </tr>\n",
       "    <tr>\n",
       "      <th>7</th>\n",
       "      <td>8</td>\n",
       "      <td>stock tersedia pas bayar tulisan stock habis k...</td>\n",
       "      <td>0</td>\n",
       "    </tr>\n",
       "    <tr>\n",
       "      <th>8</th>\n",
       "      <td>9</td>\n",
       "      <td>ga pernah kebagian astagaaahhh</td>\n",
       "      <td>1</td>\n",
       "    </tr>\n",
       "    <tr>\n",
       "      <th>9</th>\n",
       "      <td>10</td>\n",
       "      <td>beneran lihat kepala mata walaubsaya mengakui ...</td>\n",
       "      <td>1</td>\n",
       "    </tr>\n",
       "  </tbody>\n",
       "</table>\n",
       "</div>"
      ],
      "text/plain": [
       "   No                                           Komentar  Status\n",
       "0   1             dapet mas barang pagi malam dasar anak       0\n",
       "1   2  flash sale akalan rajin mantengin jam pagi mal...       0\n",
       "2   3  lihat review orang orang pas beli hp harga fla...       1\n",
       "3   4  nyobain cuma iseng pembayaran mau jam langsung...       1\n",
       "4   5  pemberi harapan palsu doang kena tipu kayak ke...       0\n",
       "5   6  bukalapak wkwkw tokopedia ketinggalan ulang ta...       1\n",
       "6   7  dapet namanya juga flash sale bawa santai dape...       1\n",
       "7   8  stock tersedia pas bayar tulisan stock habis k...       0\n",
       "8   9                     ga pernah kebagian astagaaahhh       1\n",
       "9  10  beneran lihat kepala mata walaubsaya mengakui ...       1"
      ]
     },
     "execution_count": 204,
     "metadata": {},
     "output_type": "execute_result"
    }
   ],
   "source": [
    "df.head(10)"
   ]
  },
  {
   "cell_type": "code",
   "execution_count": 205,
   "metadata": {},
   "outputs": [
    {
     "data": {
      "text/plain": [
       "Index(['No', 'Komentar', 'Status'], dtype='object')"
      ]
     },
     "execution_count": 205,
     "metadata": {},
     "output_type": "execute_result"
    }
   ],
   "source": [
    "df.columns"
   ]
  },
  {
   "cell_type": "code",
   "execution_count": 206,
   "metadata": {},
   "outputs": [
    {
     "name": "stdout",
     "output_type": "stream",
     "text": [
      "(1225, 3)\n"
     ]
    }
   ],
   "source": [
    "print(df.shape)"
   ]
  },
  {
   "cell_type": "code",
   "execution_count": 207,
   "metadata": {},
   "outputs": [
    {
     "name": "stdout",
     "output_type": "stream",
     "text": [
      "        No Komentar  Status\n",
      "10      11   boicot       0\n",
      "1221  1222     pagi       0\n"
     ]
    }
   ],
   "source": [
    "print(df.iloc[[10, -4]])"
   ]
  },
  {
   "cell_type": "code",
   "execution_count": 208,
   "metadata": {},
   "outputs": [
    {
     "data": {
      "text/plain": [
       "No          0\n",
       "Komentar    0\n",
       "Status      0\n",
       "dtype: int64"
      ]
     },
     "execution_count": 208,
     "metadata": {},
     "output_type": "execute_result"
    }
   ],
   "source": [
    "#menampilkan jumlah missing data pada setiap kolom\n",
    "df.isnull().sum()"
   ]
  },
  {
   "cell_type": "code",
   "execution_count": 209,
   "metadata": {},
   "outputs": [
    {
     "data": {
      "text/html": [
       "<div>\n",
       "<style scoped>\n",
       "    .dataframe tbody tr th:only-of-type {\n",
       "        vertical-align: middle;\n",
       "    }\n",
       "\n",
       "    .dataframe tbody tr th {\n",
       "        vertical-align: top;\n",
       "    }\n",
       "\n",
       "    .dataframe thead th {\n",
       "        text-align: right;\n",
       "    }\n",
       "</style>\n",
       "<table border=\"1\" class=\"dataframe\">\n",
       "  <thead>\n",
       "    <tr style=\"text-align: right;\">\n",
       "      <th></th>\n",
       "      <th>No</th>\n",
       "      <th>Status</th>\n",
       "    </tr>\n",
       "  </thead>\n",
       "  <tbody>\n",
       "    <tr>\n",
       "      <th>count</th>\n",
       "      <td>1225.000000</td>\n",
       "      <td>1225.000000</td>\n",
       "    </tr>\n",
       "    <tr>\n",
       "      <th>mean</th>\n",
       "      <td>613.000000</td>\n",
       "      <td>0.493878</td>\n",
       "    </tr>\n",
       "    <tr>\n",
       "      <th>std</th>\n",
       "      <td>353.771348</td>\n",
       "      <td>0.500167</td>\n",
       "    </tr>\n",
       "    <tr>\n",
       "      <th>min</th>\n",
       "      <td>1.000000</td>\n",
       "      <td>0.000000</td>\n",
       "    </tr>\n",
       "    <tr>\n",
       "      <th>25%</th>\n",
       "      <td>307.000000</td>\n",
       "      <td>0.000000</td>\n",
       "    </tr>\n",
       "    <tr>\n",
       "      <th>50%</th>\n",
       "      <td>613.000000</td>\n",
       "      <td>0.000000</td>\n",
       "    </tr>\n",
       "    <tr>\n",
       "      <th>75%</th>\n",
       "      <td>919.000000</td>\n",
       "      <td>1.000000</td>\n",
       "    </tr>\n",
       "    <tr>\n",
       "      <th>max</th>\n",
       "      <td>1225.000000</td>\n",
       "      <td>1.000000</td>\n",
       "    </tr>\n",
       "  </tbody>\n",
       "</table>\n",
       "</div>"
      ],
      "text/plain": [
       "                No       Status\n",
       "count  1225.000000  1225.000000\n",
       "mean    613.000000     0.493878\n",
       "std     353.771348     0.500167\n",
       "min       1.000000     0.000000\n",
       "25%     307.000000     0.000000\n",
       "50%     613.000000     0.000000\n",
       "75%     919.000000     1.000000\n",
       "max    1225.000000     1.000000"
      ]
     },
     "execution_count": 209,
     "metadata": {},
     "output_type": "execute_result"
    }
   ],
   "source": [
    "#membuang setiap baris yang didalamnya terdapat missing data\n",
    "df_clean = df.dropna()\n",
    "df_clean.describe()"
   ]
  },
  {
   "cell_type": "code",
   "execution_count": 210,
   "metadata": {},
   "outputs": [],
   "source": [
    "df[\"Komentar\"] = df['Komentar'].str.replace(r'https?:\\/\\/(www\\.)?[-a-zA-Z0-9@:%._\\+~#=]{2,256}\\.[a-z]{2,6}\\b([-a-zA-Z0-9@:%_\\+.~#?&//=]*)',' ')"
   ]
  },
  {
   "cell_type": "code",
   "execution_count": 211,
   "metadata": {},
   "outputs": [
    {
     "data": {
      "text/html": [
       "<div>\n",
       "<style scoped>\n",
       "    .dataframe tbody tr th:only-of-type {\n",
       "        vertical-align: middle;\n",
       "    }\n",
       "\n",
       "    .dataframe tbody tr th {\n",
       "        vertical-align: top;\n",
       "    }\n",
       "\n",
       "    .dataframe thead th {\n",
       "        text-align: right;\n",
       "    }\n",
       "</style>\n",
       "<table border=\"1\" class=\"dataframe\">\n",
       "  <thead>\n",
       "    <tr style=\"text-align: right;\">\n",
       "      <th></th>\n",
       "      <th>No</th>\n",
       "      <th>Komentar</th>\n",
       "      <th>Status</th>\n",
       "    </tr>\n",
       "  </thead>\n",
       "  <tbody>\n",
       "    <tr>\n",
       "      <th>0</th>\n",
       "      <td>1</td>\n",
       "      <td>dapet mas barang pagi malam dasar anak</td>\n",
       "      <td>0</td>\n",
       "    </tr>\n",
       "    <tr>\n",
       "      <th>1</th>\n",
       "      <td>2</td>\n",
       "      <td>flash sale akalan rajin mantengin jam pagi mal...</td>\n",
       "      <td>0</td>\n",
       "    </tr>\n",
       "    <tr>\n",
       "      <th>2</th>\n",
       "      <td>3</td>\n",
       "      <td>lihat review orang orang pas beli hp harga fla...</td>\n",
       "      <td>1</td>\n",
       "    </tr>\n",
       "    <tr>\n",
       "      <th>3</th>\n",
       "      <td>4</td>\n",
       "      <td>nyobain cuma iseng pembayaran mau jam langsung...</td>\n",
       "      <td>1</td>\n",
       "    </tr>\n",
       "    <tr>\n",
       "      <th>4</th>\n",
       "      <td>5</td>\n",
       "      <td>pemberi harapan palsu doang kena tipu kayak ke...</td>\n",
       "      <td>0</td>\n",
       "    </tr>\n",
       "    <tr>\n",
       "      <th>5</th>\n",
       "      <td>6</td>\n",
       "      <td>bukalapak wkwkw tokopedia ketinggalan ulang ta...</td>\n",
       "      <td>1</td>\n",
       "    </tr>\n",
       "    <tr>\n",
       "      <th>6</th>\n",
       "      <td>7</td>\n",
       "      <td>dapet namanya juga flash sale bawa santai dape...</td>\n",
       "      <td>1</td>\n",
       "    </tr>\n",
       "    <tr>\n",
       "      <th>7</th>\n",
       "      <td>8</td>\n",
       "      <td>stock tersedia pas bayar tulisan stock habis k...</td>\n",
       "      <td>0</td>\n",
       "    </tr>\n",
       "    <tr>\n",
       "      <th>8</th>\n",
       "      <td>9</td>\n",
       "      <td>ga pernah kebagian astagaaahhh</td>\n",
       "      <td>1</td>\n",
       "    </tr>\n",
       "    <tr>\n",
       "      <th>9</th>\n",
       "      <td>10</td>\n",
       "      <td>beneran lihat kepala mata walaubsaya mengakui ...</td>\n",
       "      <td>1</td>\n",
       "    </tr>\n",
       "  </tbody>\n",
       "</table>\n",
       "</div>"
      ],
      "text/plain": [
       "   No                                           Komentar  Status\n",
       "0   1             dapet mas barang pagi malam dasar anak       0\n",
       "1   2  flash sale akalan rajin mantengin jam pagi mal...       0\n",
       "2   3  lihat review orang orang pas beli hp harga fla...       1\n",
       "3   4  nyobain cuma iseng pembayaran mau jam langsung...       1\n",
       "4   5  pemberi harapan palsu doang kena tipu kayak ke...       0\n",
       "5   6  bukalapak wkwkw tokopedia ketinggalan ulang ta...       1\n",
       "6   7  dapet namanya juga flash sale bawa santai dape...       1\n",
       "7   8  stock tersedia pas bayar tulisan stock habis k...       0\n",
       "8   9                     ga pernah kebagian astagaaahhh       1\n",
       "9  10  beneran lihat kepala mata walaubsaya mengakui ...       1"
      ]
     },
     "execution_count": 211,
     "metadata": {},
     "output_type": "execute_result"
    }
   ],
   "source": [
    "df[\"Komentar\"] = df['Komentar'].str.replace('[^\\w\\s]',' ')\n",
    "df[\"Komentar\"] = df['Komentar'].str.replace('\\d+',' ')\n",
    "df.head(10)\n",
    "#df.tail(5)"
   ]
  },
  {
   "cell_type": "code",
   "execution_count": 212,
   "metadata": {},
   "outputs": [
    {
     "data": {
      "text/plain": [
       "No                                                          8\n",
       "Komentar    stock tersedia pas bayar tulisan stock habis k...\n",
       "Status                                                      0\n",
       "Name: 7, dtype: object"
      ]
     },
     "execution_count": 212,
     "metadata": {},
     "output_type": "execute_result"
    }
   ],
   "source": [
    "words = df[\"Komentar\"].str.split()\n",
    "df.iloc[7]"
   ]
  },
  {
   "cell_type": "code",
   "execution_count": 213,
   "metadata": {},
   "outputs": [
    {
     "name": "stdout",
     "output_type": "stream",
     "text": [
      "[('amazing', 10), ('dapet', 10), ('transaksi flash sale kemarin pembayaran via bca virtual account dana terpotong sistem error belanjaan stuck cart produk habis hilang skrg dana terpotong cart logo notification dibuka cart kosong mohon kebijakan tokopedia bagaimanakesal', 10), ('ok', 10), ('gagal beli uang toko bayar langsung ditarik saldo trs dibalikin bank dasar anak informasi', 10), ('flash sale akalan rajin mantengin jam pagi malem sampe nyalain alarm tetep zonk server stock habis coba ku kasar wkwkwkekwk', 5), ('pemberi harapan palsu doang kena tipu kayak keledai', 5), ('beneran lihat kepala mata walaubsaya mengakui kalo sedih bete kena marah', 5), ('boicot', 5), ('teflon frame', 5), ('koneksi indomie calon anak ayam kornet stabil bagus', 5), ('lom beruntung kemarin marah hikz', 5), ('norak kali ikutan flash salekesal wkwk', 5), ('barang', 5), ('nature republic', 5)]\n"
     ]
    }
   ],
   "source": [
    "import nltk\n",
    "#nltk.download()\n",
    "from nltk.corpus import stopwords\n",
    "stop = stopwords.words('indonesian')\n",
    "df[\"Komentar\"] = df[\"Komentar\"].apply(lambda x: ' '.join([word for word in x.split() if word not in (stop)]))\n",
    "df[\"Komentar\"] = df[\"Komentar\"].apply(lambda x: x.lower())\n",
    "all_words = df[\"Komentar\"].str.split()\n",
    "all_words = nltk.FreqDist(df[\"Komentar\"])\n",
    "print(all_words.most_common(15))\n",
    "#df.head(5)"
   ]
  },
  {
   "cell_type": "code",
   "execution_count": 214,
   "metadata": {},
   "outputs": [
    {
     "name": "stdout",
     "output_type": "stream",
     "text": [
      "[('amazing', 10), ('dapet', 10), ('transaksi flash sale kemarin pembayaran via bca virtual account dana terpotong sistem error belanjaan stuck cart produk habis hilang skrg dana terpotong cart logo notification dibuka cart kosong mohon kebijakan tokopedia bagaimanakesal', 10), ('ok', 10), ('gagal beli uang toko bayar langsung ditarik saldo trs dibalikin bank dasar anak informasi', 10)]\n",
      "<Sastrawi.Stemmer.CachedStemmer.CachedStemmer object at 0x000000000CF3AEB8>\n"
     ]
    }
   ],
   "source": [
    "from Sastrawi.Stemmer.StemmerFactory import StemmerFactory\n",
    " \n",
    "factory = StemmerFactory()\n",
    "stemmer = factory.create_stemmer()\n",
    "df[\"Komentar\"] = df[\"Komentar\"].apply(lambda x: ' '.join([word for word in x.split() if word not in (stop)]))\n",
    "df[\"Komentar\"] = df[\"Komentar\"].apply(lambda x: x.lower())\n",
    "print(all_words.most_common(5))\n",
    "print(stemmer)"
   ]
  },
  {
   "cell_type": "code",
   "execution_count": 215,
   "metadata": {},
   "outputs": [
    {
     "name": "stdout",
     "output_type": "stream",
     "text": [
      "[[0 0 0 ... 0 0 0]\n",
      " [0 0 0 ... 0 0 1]\n",
      " [0 0 0 ... 0 0 0]\n",
      " ...\n",
      " [0 0 0 ... 0 0 0]\n",
      " [0 0 0 ... 0 0 0]\n",
      " [0 0 0 ... 0 0 0]]\n",
      "{'dapet': 196, 'mas': 539, 'barang': 64, 'pagi': 657, 'malam': 532, 'dasar': 198, 'anak': 28, 'flash': 279, 'sale': 770, 'akalan': 14, 'rajin': 740, 'mantengin': 536, 'jam': 387, 'malem': 534, 'sampe': 774, 'nyalain': 634, 'alarm': 19, 'tetep': 895, 'zonk': 990, 'server': 806, 'stock': 842, 'habis': 326, 'coba': 180, 'ku': 489, 'kasar': 423, 'wkwkwkekwk': 969, 'lihat': 514, 'review': 760, 'orang': 645, 'pas': 665, 'beli': 86, 'hp': 360, 'harga': 342, 'nyobain': 638, 'iseng': 380, 'pembayaran': 681, 'langsung': 500, 'dibilang': 207, 'halaman': 337, 'flashsale': 280, 'aneh': 29, 'bin': 121, 'ajaib': 11, 'pemberi': 684, 'harapan': 341, 'palsu': 661, 'doang': 239, 'kena': 448, 'tipu': 905, 'kayak': 427, 'keledai': 441, 'bukalapak': 154, 'wkwkw': 967, 'tokopedia': 912, 'ketinggalan': 461, 'ulang': 939, 'tahunnya': 864, 'pelit': 679, 'parah': 663, 'kalah': 414, 'diskonan': 230, 'namanya': 595, 'bawa': 73, 'santai': 776, 'syukur': 862, 'rejeki': 753, 'gilaan': 303, 'wajar': 956, 'stand': 839, 'tersedia': 887, 'bayar': 74, 'tulisan': 933, 'kaya': 426, 'lapak': 501, 'sebelah': 783, 'check': 174, 'out': 653, 'otomatis': 652, 'ga': 288, 'kebagian': 430, 'astagaaahhh': 38, 'beneran': 90, 'kepala': 449, 'mata': 545, 'walaubsaya': 957, 'mengakui': 560, 'kalo': 417, 'sedih': 787, 'bete': 112, 'marah': 537, 'boicot': 136, 'teflon': 875, 'frame': 285, 'koneksi': 479, 'indomie': 373, 'calon': 160, 'ayam': 46, 'kornet': 480, 'stabil': 838, 'bagus': 51, 'lom': 521, 'beruntung': 108, 'kemarin': 446, 'hikz': 352, 'norak': 621, 'kali': 416, 'ikutan': 368, 'salekesal': 772, 'wkwk': 965, 'nature': 597, 'republic': 757, 'pake': 660, 'cc': 169, 'amazing': 24, 'miband': 573, 'mo': 580, 'lamgsung': 498, 'menjengkelkan': 567, 'flassalee': 281, 'kecewaaaastok': 438, 'tpi': 922, 'dibayar': 206, 'notif': 624, 'stok': 843, 'kosongperbaiki': 482, 'sistemnya': 825, 'berhasil': 97, 'powerbank': 724, 'mili': 574, 'mah': 528, 'thank': 897, 'you': 987, 'experience': 273, 'drpd': 251, 'semalam': 796, 'well': 961, 'see': 788, 'semoga': 800, 'membatalkan': 556, 'orderan': 649, 'thanks': 898, 'again': 6, 'pembodohan': 686, 'umat': 940, 'sediain': 786, 'cuman': 190, 'rebutan': 750, 'indonesia': 374, 'kampret': 419, 'banget': 56, 'giliran': 304, 'error': 270, 'terusphp': 891, 'boongan': 141, 'lgs': 512, 'tebar': 874, 'pesona': 709, 'kosong': 481, 'data': 199, 'not_found': 623, 'cape': 164, 'udahhhh': 938, 'dongggkucing': 243, 'kucing': 491, 'dpt': 247, 'maen': 527, 'cepetan': 173, 'wkt': 964, 'dl': 236, 'rice': 764, 'cooker': 185, 'kl': 469, 'skrg': 828, 'brg': 146, 'tmn': 907, 'blender': 129, 'drone': 249, 'diserbu': 226, 'ribuan': 763, 'org': 651, 'faktor': 276, 'hoki': 357, 'toko': 910, 'sblh': 778, 'jg': 399, 'dis': 223, 'klikpay': 472, 'bca': 79, 'bayare': 75, 'pke': 717, 'ecash': 257, 'gimana': 305, 'sihaku': 820, 'bingung': 122, 'kra': 483, 'transfer': 925, 'kya': 495, 'order': 648, 'trs': 927, 'pdhl': 673, 'klik': 471, 'secepat': 784, 'kilat': 465, 'eh': 258, 'checkout': 175, 'ngaku': 603, 'xiaomi': 972, 'mukena': 588, 'bali': 54, 'kesalahan': 458, 'jaringan': 390, 'aduuh': 5, 'deh': 200, 'hahaha': 332, 'canggih': 162, 'servernya': 808, 'hahah': 331, 'dpet': 246, 'bae': 49, 'serverny': 807, 'sabar': 767, 'gt': 321, 'barusan': 67, 'masuk': 542, 'keranjang': 452, 'bermasalah': 103, 'qty': 738, 'bisanya': 125, 'cekout': 171, 'sekalinya': 790, 'paymentzonkkkstok': 668, 'ilang': 369, 'fakesale': 275, 'yee': 985, 'toped': 920, 'bener': 89, 'yakesal': 980, 'kakak': 413, 'lelaki': 507, 'ribet': 761, 'suru': 854, 'masukin': 543, 'alamatujungnya': 18, 'hahahahaa': 333, 'lg': 510, 'muncul': 590, 'belanja': 84, 'flow': 282, 'screen': 780, 'lari': 504, 'kemana': 444, 'lapar': 502, 'tembus': 876, 'tinggal': 903, 'lgsg': 513, 'produk': 729, 'dihapus': 212, 'main': 530, 'aman': 21, 'goblok': 315, 'really': 748, 'heres': 350, 'my': 593, 'input': 376, 'better': 113, 'do': 238, 'some': 835, 'stress': 847, 'test': 893, 'first': 278, 'before': 82, 'another': 33, 'if': 363, 'are': 36, 'wise': 963, 'youll': 988, 'take': 866, 'this': 901, 'happy': 340, 'customer': 191, 'will': 962, 'be': 80, 'your': 989, 'repeat': 756, 'unhappy': 942, 'new': 600, 'to': 908, 'competitor': 184, 'bnget': 131, 'mbaaa': 550, 'nyoba': 637, 'perphpan': 706, 'terimakasih': 884, 'pengalaman': 692, 'mengecewakannya': 562, 'mengatasi': 561, 'sokan': 834, 'bikin': 118, 'yatahunbersamakecewabadexperience': 983, 'niat': 617, 'ngadain': 602, 'lazadashopee': 506, 'prettt': 725, 'detik': 201, 'selangkah': 793, 'selingkuh': 794, 'banking': 58, 'ka': 405, 'bayarnya': 76, 'pakai': 659, 'briva': 147, 'jualan': 401, 'isi': 381, 'tokocash': 911, 'gugling': 324, 'hmm': 355, 'promo': 732, 'back': 48, 'pacman': 655, 'uangnya': 937, 'refund': 752, 'penipuan': 697, 'jd': 394, 'penjualan': 700, 'uang': 936, 'msk': 585, 'kartu': 422, 'kredit': 484, 'caash': 159, 'kah': 412, 'penjelasan': 698, 'ngatasin': 605, 'gausah': 297, 'sok': 833, 'giniantahunbersamamengecewakan': 309, 'lumayan': 523, 'menit': 564, 'min': 577, 'belinyakan': 87, 'virtual': 951, 'account': 2, 'ambil': 26, 'tendili': 878, 'moneynya': 582, 'ko': 474, 'ajah': 10, 'buru': 157, 'atmnya': 39, 'jelasgitu': 396, 'loading': 519, 'xpadahal': 973, 'signalnya': 819, 'bagusstock': 52, 'melulupadahal': 554, 'br': 143, 'berjalan': 99, 'pengen': 693, 'biar': 115, 'emak': 260, 'seneng': 802, 'mayanlah': 547, 'kang': 421, 'sedia': 785, 'payung': 669, 'hujan': 362, 'gimn': 307, 'ikiutan': 366, 'tolong': 917, 'bantu': 60, 'jelasin': 397, 'ak': 13, 'helm': 348, 'via': 950, 'nunggu': 631, 'proses': 733, 'seller': 795, 'mudah': 587, 'an': 27, 'dana': 194, 'kembalikan': 447, 'saldo': 768, 'downtolong': 245, 'masak': 540, 'terustahunbersama': 892, 'rebu': 749, 'mesti': 570, 'byk': 158, 'belajar': 83, 'collocation': 182, 'amazon': 25, 'google': 318, 'bule': 156, 'tokped': 915, 'semangat': 797, 'berdoa': 95, 'weh': 960, 'haha': 330, 'lemot': 508, 'duitnya': 254, 'bakar': 53, 'buka': 153, 'aplikasi': 35, 'teng': 879, 'gag': 290, 'omong': 642, 'dy': 255, 'rb': 744, 'smpe': 831, 'tangan': 868, 'angin': 31, 'semilir': 799, 'susah': 857, 'lucky': 522, 'dibatalin': 205, 'sma': 830, 'hokian': 358, 'coeg': 181, 'duit': 253, 'balikin': 55, 'like': 515, 'supermarket': 853, 'struk': 848, 'print': 726, 'ngelanjutin': 610, 'kemaren': 445, 'yaa': 974, 'engga': 267, 'no': 620, 'va': 947, 'barangnya': 65, 'keep': 439, 'cm': 178, 'dikasih': 215, 'kiciwa': 464, 'kayanya': 429, 'laen': 497, 'prnh': 727, 'brmslh': 148, 'auto': 40, 'uninstal': 943, 'ajh': 12, 'cem': 172, 'ginimah': 310, 'mnding': 579, 'shopee': 814, 'lazada': 505, 'susu': 858, 'enfagrow': 266, 'gagal': 291, 'tetiba': 896, 'oops': 644, 'iyaa': 384, 'hitungan': 354, 'kayaknya': 428, 'emang': 261, 'mayoritas': 549, 'gigi': 301, 'tajam': 865, 'ngerasain': 612, 'fs': 287, 'temen': 877, 'fake': 274, 'ng': 601, 'worth': 970, 'it': 383, 'wasting': 958, 'time': 902, 'hadilnya': 329, 'tong': 918, 'kecewa': 435, 'eror': 268, 'sehabis': 789, 'makan': 531, 'pulang': 736, 'hbs': 347, 'berkali': 101, 'buang': 152, 'cari': 165, 'sensasi': 804, 'goodbye': 317, 'pindah': 713, 'online': 643, 'jasa': 391, 'aws': 45, 'bos': 142, 'mulu': 589, 'menginvest': 563, 'tokopedianya': 913, 'alibaba': 20, 'group': 320, 'blackmores': 128, 'vitamin': 952, 'ribu': 762, 'msh': 584, 'titik': 906, 'merah': 569, 'terisi': 885, 'barangtp': 66, 'dibuka': 209, 'ntar': 627, 'dijadiin': 214, 'iklan': 367, 'ngebully': 607, 'pdhal': 672, 'kmaren': 473, 'internal': 377, 'minjgn': 578, 'lupa': 524, 'perbaiki': 702, 'pelanggan': 676, 'kabur': 407, 'diproses': 221, 'penjual': 699, 'gimmick': 306, 'stiap': 841, 'pdahal': 671, 'kgk': 463, 'bsa': 151, 'blablabla': 127, 'cek': 170, 'dah': 193, 'bijiii': 117, 'parahh': 664, 'ngomong': 615, 'invest': 378, 'web': 959, 'services': 809, 'down': 244, 'pengunjung': 696, 'diurusin': 234, 'nyebar': 635, 'kebohongan': 432, 'gini': 308, 'bohongan': 135, 'niecuma': 618, 'mentok': 568, 'transaksi': 923, 'terpotong': 886, 'sistem': 824, 'belanjaan': 85, 'stuck': 849, 'cart': 166, 'hilang': 353, 'logo': 520, 'notification': 625, 'mohon': 581, 'kebijakan': 431, 'bagaimanakesal': 50, 'senin': 803, 'gunain': 325, 'voucher': 954, 'ilovemonday': 370, 'cashbacknya': 167, 'gmbarnya': 314, 'kere': 454, 'tulen': 932, 'gift': 300, 'yasin': 982, 'cantik': 163, 'acaramu': 1, 'berkesan': 102, 'kepoin': 450, 'hahahahahaha': 334, 'subhanallaah': 850, 'sore': 836, 'bikintiap': 119, 'trskan': 928, 'tambahin': 867, 'hashtagnyaflashsalephp': 344, 'maaf': 525, 'padahl': 656, 'berpa': 106, 'ngk': 614, 'load': 518, 'pilih': 711, 'juragan': 402, 'habishuft': 327, 'awesomee': 44, 'met': 571, 'siang': 817, 'mimin': 576, 'benerin': 91, 'please': 719, 'laporin': 503, 'ylki': 986, 'barakallah': 63, 'tokepedia': 909, 'sukses': 851, 'dm': 237, 'beserta': 110, 'transaksinya': 924, 'penasaran': 690, 'sis': 823, 'cpt': 187, 'kepotong': 451, 'saldonya': 769, 'kalao': 415, 'hati': 346, 'ksong': 488, 'wkwkkw': 966, 'etss': 271, 'dipmbyaran': 220, 'gada': 289, 'semenit': 798, 'dikembaliin': 216, 'danaku': 195, 'yaelahh': 978, 'pdoo': 674, 'mawon': 546, 'yakkk': 981, 'pembohongan': 687, 'awas': 43, 'basic': 68, 'voal': 953, 'ketagihan': 460, 'ready': 746, 'shinar': 813, 'glamour': 312, 'tet': 894, 'dikembalikan': 217, 'bayarxkan': 78, 'boong': 140, 'gamau': 293, 'rugii': 766, 'permainan': 705, 'bnyak': 133, 'kunjungi': 493, 'hahahha': 335, 'wkwkwk': 968, 'percaya': 703, 'salekamvret': 771, 'gila': 302, 'menitan': 565, 'muter': 592, 'tu': 930, 'ksel': 487, 'tas': 870, 'taunya': 872, 'topednya': 921, 'rejekinya': 754, 'brati': 145, 'penjualnya': 701, 'ngasih': 604, 'batasan': 71, 'olshopnya': 640, 'kes': 456, 'haji': 336, 'kagum': 411, 'pilihan': 712, 'pembayarannyacuma': 683, 'pembayaranga': 682, 'disebelah': 224, 'aktivitas': 16, 'yaah': 977, 'anjir': 32, 'gakk': 292, 'payment': 667, 'terusotw': 890, 'playstore': 718, 'kasih': 425, 'bintang': 123, 'event': 272, 'kampung': 420, 'sinyalnya': 822, 'sekuat': 792, 'jakarta': 385, 'brarti': 144, 'emg': 262, 'persiapkan': 707, 'setoknya': 810, 'banyakin': 62, 'jgn': 400, 'nungguin': 632, 'puluhan': 737, 'pastiin': 666, 'lancar': 499, 'nerima': 599, 'si': 816, 'oren': 650, 'bermutu': 105, 'kadang': 409, 'eksklusif': 259, 'murah': 591, 'boncengan': 138, 'lengkappp': 509, 'kesal': 457, 'ok': 639, 'kaga': 410, 'daftar': 192, 'skali': 826, 'gmana': 313, 'resi': 758, 'susaaaaahhhh': 856, 'truussss': 929, 'benerinnn': 92, 'dolo': 241, 'njerr': 619, 'tukang': 931, 'anehflash': 30, 'cmn': 179, 'point': 720, 'lgiini': 511, 'sekian': 791, 'comment': 183, 'respon': 759, 'akun': 17, 'heraann': 349, 'maluin': 535, 'melanda': 552, 'biasakesal': 116, 'tdi': 873, 'pgi': 710, 'syaa': 860, 'milo': 575, 'cube': 189, 'sayang': 777, 'kursng': 494, 'berminat': 104, 'enakb': 265, 'bgtu': 114, 'rame': 741, 'erorrrrrrr': 269, 'bates': 72, 'stoknya': 844, 'shoppe': 815, 'ah': 8, 'enak': 264, 'ciuman': 176, 'upsciuman': 946, 'berdosa': 96, 'dapettahunbersama': 197, 'redmi': 751, 'pengiriman': 695, 'kitkat': 468, 'yaaah': 976, 'kaalau': 406, 'pesanan': 708, 'batalkan': 70, 'tunai': 934, 'ditarik': 231, 'dibalikin': 203, 'bank': 57, 'informasi': 375, 'disiapin': 227, 'incer': 371, 'mahal': 529, 'ngincer': 613, 'home': 359, 'nyisa': 636, 'lngsng': 517, 'krnjang': 486, 'mending': 558, 'jelassssss': 398, 'riwayat': 765, 'pindahkan': 714, 'tunggu': 935, 'hr': 361, 'membantu': 555, 'protes': 735, 'smua': 832, 'trick': 926, 'pintar': 715, 'vacum': 948, 'cleaner': 177, 'fantastis': 277, 'disediakan': 225, 'banya': 61, 'kemajuan': 443, 'berusaha': 109, 'tingkatin': 904, 'pelayanannya': 678, 'taun': 871, 'syaratnya': 861, 'dipindahkan': 219, 'rekening': 755, 'pembatalan': 680, 'jbl': 393, 'program': 731, 'hoaxbayar': 356, 'cpet': 186, 'kacau': 408, 'sandisk': 775, 'normal': 622, 'ny': 633, 'berita': 98, 'bohong': 134, 'diam': 202, 'ngebut': 608, 'jancuk': 389, 'macet': 526, 'crash': 188, 'suwe': 859, 'bat': 69, 'bilangannya': 120, 'gitu': 311, 'kliatan': 470, 'siapnya': 818, 'sendirilah': 801, 'penduduk': 691, 'juta': 403, 'kasarnya': 424, 'stgh': 840, 'akses': 15, 'perhitungan': 704, 'brp': 150, 'han': 338, 'hadiah': 328, 'aamiin': 0, 'mslhnya': 586, 'berjuang': 100, 'hasil': 345, 'msalah': 583, 'jdid': 395, 'jakmall': 386, 'bl': 126, 'pcs': 670, 'jaman': 388, 'sklipun': 827, 'kebuka': 433, 'ghoibkahkesal': 299, 'ganmasih': 294, 'verified': 949, 'kalopun': 418, 'diuji': 232, 'autocancel': 41, 'autorefund': 42, 'ndak': 598, 'thats': 899, 'the': 900, 'cb': 168, 'amati': 22, 'flownya': 283, 'terapkan': 880, 'komensaya': 478, 'baca': 47, 'komen': 477, 'post': 721, 'sblmnya': 779, 'paham': 658, 'berat': 94, 'goib': 316, 'kecewaaaaa': 437, 'keluarin': 442, 'besok': 111, 'super': 852, 'dibanding': 204, 'ni': 616, 'ajacustomer': 9, 'kecewaaa': 436, 'belom': 88, 'salenya': 773, 'berakhirlahhh': 93, 'kocak': 475, 'pinterrr': 716, 'berubah': 107, 'nama': 594, 'tokophp': 914, 'isinya': 382, 'tanggal': 869, 'agustus': 7, 'memilih': 557, 'disitu': 228, 'pemberitahuan': 685, 'kode': 476, 'diverifikasi': 235, 'yaterima': 984, 'kek': 440, 'yahsudah': 979, 'prosestinggal': 734, 'bayartp': 77, 'limitnya': 516, 'menitkesal': 566, 'serius': 805, 'nanya': 596, 'kunjungan': 492, 'dugaan': 252, 'terbaik': 881, 'kualitas': 490, 'pelayanan': 677, 'metode': 572, 'masuknya': 544, 'ntaps': 626, 'marketplace': 538, 'orange': 646, 'kyaknya': 496, 'ijo': 365, 'guaa': 323, 'story': 845, 'bro': 149, 'pancake': 662, 'untungan': 944, 'ratusan': 743, 'terbatas': 882, 'kirim': 467, 'silahkan': 821, 'dicek': 211, 'bukti': 155, 'screnshot': 781, 'pembyaran': 688, 'pro': 728, 'dicancel': 210, 'adain': 4, 'emosi': 263, 'doangnurunin': 240, 'rating': 742, 'bokiss': 137, 'numpuk': 630, 'setuju': 811, 'krim': 485, 'nti': 628, 'iri': 379, 'pengguna': 694, 'harganya': 343, 'peminat': 689, 'asli': 37, 'produknya': 730, 'jutaan': 404, 'bngt': 132, 'kirain': 466, 'mei': 551, 'terulang': 889, 'mendingan': 559, 'blum': 130, 'slb': 829, 'ngejar': 609, 'dropshiper': 250, 'dri': 248, 'tokpedakibatnya': 916, 'kerjaan': 455, 'terbengkalai': 883, 'gara': 296, 'format': 284, 'friendly': 286, 'nge': 606, 'boom': 139, 'diprotes': 222, 'jawabannya': 392, 'suruh': 855, 'bebenah': 81, 'numpang': 629, 'om': 641, 'top': 919, 'up': 945, 'indomaret': 372, 'shake': 812, 'gopro': 319, 'hero': 351, 'dongg': 242, 'maybelline': 548, 'umpat': 941, 'rbuan': 745, 'storyku': 846, 'gua': 322, 'action': 3, 'cam': 161, 'power': 723, 'diskon': 229, 'gede': 298, 'tahan': 863, 'kebutuhan': 434, 'tertawa': 888, 'keras': 453, 'amazfit': 23, 'bip': 124, 'earphone': 256, 'rada': 739, 'woy': 971, 'apapun': 34, 'melulu': 553, 'ngeluh': 611, 'kgak': 462, 'yaaa': 975, 'kesel': 459, 'banting': 59, 'hape': 339, 'sptnya': 837, 'diuntungkan': 233, 'diisini': 213, 'pedagang': 675, 'diliat': 218, 'posting': 722, 'ig': 364, 'real': 747, 'overload': 654, 'gapernah': 295, 'vuma': 955, 'diblng': 208, 'masi': 541, 'malamdasar': 533, 'orangorang': 647, 'sdh': 782}\n"
     ]
    }
   ],
   "source": [
    "corpus = df[\"Komentar\"]\n",
    "\n",
    "vectorizer = CountVectorizer()\n",
    "print( vectorizer.fit_transform(corpus).todense() )\n",
    "print( vectorizer.vocabulary_ )"
   ]
  },
  {
   "cell_type": "code",
   "execution_count": 216,
   "metadata": {},
   "outputs": [],
   "source": [
    "# Data training\n",
    "X = df[['Komentar']]\n",
    "Y = df[['Status']]\n",
    "x_train, x_test, y_train, y_test = train_test_split(X['Komentar'],Y['Status'],test_size=0.2,random_state=0) # 70% training and 30% test"
   ]
  },
  {
   "cell_type": "code",
   "execution_count": 217,
   "metadata": {},
   "outputs": [
    {
     "name": "stdout",
     "output_type": "stream",
     "text": [
      "x_train= (980,)\n",
      "x_test= (245,)\n",
      "y_train= (980,)\n",
      "y_test= (245,)\n"
     ]
    }
   ],
   "source": [
    "print('x_train=',x_train.shape)\n",
    "print('x_test=',x_test.shape)\n",
    "print('y_train=',y_train.shape)\n",
    "print('y_test=',y_test.shape)"
   ]
  },
  {
   "cell_type": "code",
   "execution_count": 218,
   "metadata": {},
   "outputs": [
    {
     "name": "stdout",
     "output_type": "stream",
     "text": [
      "0    620\n",
      "1    605\n",
      "Name: Status, dtype: int64\n"
     ]
    }
   ],
   "source": [
    "vec = CountVectorizer(max_features=10000,binary=True)\n",
    "x_train_vect = vec.fit_transform(x_train)\n",
    "counts = df.Status.value_counts()\n",
    "print(counts) # 0 = NEGATIF, 1 = POSITIF"
   ]
  },
  {
   "cell_type": "code",
   "execution_count": 219,
   "metadata": {},
   "outputs": [],
   "source": [
    "vec = CountVectorizer()\n",
    "vec.fit(X['Komentar'])\n",
    "\n",
    "x_train = vec.transform(x_train)\n",
    "\n",
    "x_test = vec.transform(x_test)"
   ]
  },
  {
   "cell_type": "code",
   "execution_count": 220,
   "metadata": {},
   "outputs": [
    {
     "name": "stdout",
     "output_type": "stream",
     "text": [
      "\n",
      "Accuracy of Naive Bayes Classifier:  90.61224489795919 %\n",
      "\n"
     ]
    }
   ],
   "source": [
    "NB = MultinomialNB(alpha=.3)\n",
    "#print(y_train)\n",
    "NB.fit(x_train,y_train)\n",
    "NB_predicted = NB.predict(x_test)\n",
    "NBC = NB.score(x_test,y_test)\n",
    "print(\"\\nAccuracy of Naive Bayes Classifier: \",NBC*100,\"%\\n\")"
   ]
  },
  {
   "cell_type": "code",
   "execution_count": 221,
   "metadata": {},
   "outputs": [],
   "source": [
    "x_test_vect = x_test\n",
    "y_pred = NB_predicted"
   ]
  },
  {
   "cell_type": "code",
   "execution_count": 222,
   "metadata": {},
   "outputs": [],
   "source": [
    "v = np.array([1, 5, 3])\n",
    "C = np.zeros((v.shape[0], v.max()))"
   ]
  },
  {
   "cell_type": "code",
   "execution_count": 223,
   "metadata": {},
   "outputs": [
    {
     "name": "stdout",
     "output_type": "stream",
     "text": [
      "[[114  14]\n",
      " [  9 108]]\n",
      "              precision    recall  f1-score   support\n",
      "\n",
      "           0       0.93      0.89      0.91       128\n",
      "           1       0.89      0.92      0.90       117\n",
      "\n",
      "   micro avg       0.91      0.91      0.91       245\n",
      "   macro avg       0.91      0.91      0.91       245\n",
      "weighted avg       0.91      0.91      0.91       245\n",
      "\n",
      "\n",
      "Accuracy of Linear Support Vector Classifier:  97.95918367346938 %\n",
      "\n"
     ]
    }
   ],
   "source": [
    "S = LinearSVC()\n",
    "S.fit(x_train,y_train)\n",
    "S_predicted = S.predict(x_test)\n",
    "SC = S.score(x_test,y_test)\n",
    "print(confusion_matrix(y_test, y_pred))  \n",
    "print(classification_report(y_test, y_pred))\n",
    "print(\"\\nAccuracy of Linear Support Vector Classifier: \",SC*100,\"%\\n\")"
   ]
  },
  {
   "cell_type": "code",
   "execution_count": 224,
   "metadata": {},
   "outputs": [
    {
     "name": "stdout",
     "output_type": "stream",
     "text": [
      "TN =  114\n",
      "FN =  9\n",
      "TP =  108\n",
      "FP =  14\n"
     ]
    }
   ],
   "source": [
    "print('TN = ', confussion_array[0,0]) #True Negative\n",
    "print('FN = ', confussion_array[1,0]) #False Negative\n",
    "print('TP = ', confussion_array[1,1]) #True Negative\n",
    "print('FP = ', confussion_array[0,1]) #False Negative"
   ]
  },
  {
   "cell_type": "code",
   "execution_count": 225,
   "metadata": {},
   "outputs": [
    {
     "name": "stdout",
     "output_type": "stream",
     "text": [
      "Accuracy : 90.61%\n",
      "F1 Score : 90.38%\n",
      "Confusion Matrix : \n",
      " [[114  14]\n",
      " [  9 108]]\n"
     ]
    }
   ],
   "source": [
    "from sklearn.metrics import accuracy_score, f1_score, confusion_matrix\n",
    "\n",
    "print(\"Accuracy : {:.2f}%\".format(accuracy_score(y_test,y_pred)*100))\n",
    "print(\"F1 Score : {:.2f}%\".format(f1_score(y_test,y_pred)*100))\n",
    "print(\"Confusion Matrix : \\n\",confusion_matrix(y_test,y_pred))"
   ]
  },
  {
   "cell_type": "code",
   "execution_count": 250,
   "metadata": {},
   "outputs": [],
   "source": [
    "# Import some data to play with\n",
    "iris = datasets.load_iris()\n",
    "X = iris.data\n",
    "y = iris.target\n",
    "\n",
    "# Binarize the output\n",
    "y = label_binarize(y, classes=[0, 1, 2])\n",
    "n_classes = y.shape[1]\n",
    "\n",
    "# Add noisy features to make the problem harder\n",
    "random_state = np.random.RandomState(0)\n",
    "n_samples, n_features = X.shape\n",
    "X = np.c_[X, random_state.randn(n_samples, 200 * n_features)]\n",
    "\n",
    "# shuffle and split training and test sets\n",
    "X_train, X_test, y_train, y_test = train_test_split(X, y, test_size=.5,\n",
    "                                                    random_state=0)\n",
    "\n",
    "# Learn to predict each class against the other\n",
    "classifier = OneVsRestClassifier(svm.SVC(kernel='linear', probability=True,\n",
    "                                 random_state=random_state))\n",
    "y_score = classifier.fit(X_train, y_train).decision_function(X_test)\n",
    "\n",
    "# Compute ROC curve and ROC area for each class\n",
    "fpr = dict()\n",
    "tpr = dict()\n",
    "roc_auc = dict()\n",
    "for i in range(n_classes):\n",
    "    fpr[i], tpr[i], _ = roc_curve(y_test[:, i], y_score[:, i])\n",
    "    roc_auc[i] = auc(fpr[i], tpr[i])\n",
    "\n",
    "# Compute micro-average ROC curve and ROC area\n",
    "fpr[\"micro\"], tpr[\"micro\"], _ = roc_curve(y_test.ravel(), y_score.ravel())\n",
    "roc_auc[\"micro\"] = auc(fpr[\"micro\"], tpr[\"micro\"])"
   ]
  },
  {
   "cell_type": "code",
   "execution_count": 251,
   "metadata": {},
   "outputs": [
    {
     "data": {
      "image/png": "[encoded data removed]",
      "text/plain": [
       "<Figure size 432x288 with 1 Axes>"
      ]
     },
     "metadata": {
      "needs_background": "light"
     },
     "output_type": "display_data"
    }
   ],
   "source": [
    "from sklearn.multiclass import OneVsRestClassifier\n",
    "from scipy import interp\n",
    "\n",
    "# Import some data to play with\n",
    "#iris = datasets.load_iris()\n",
    "X = df[['Komentar']]\n",
    "y = df[['Status']]\n",
    "\n",
    "# Binarize the output\n",
    "y = label_binarize(y, classes=[0, 1, 2])\n",
    "n_classes = y.shape[1]\n",
    "\n",
    "# First aggregate all false positive rates\n",
    "all_fpr = np.unique(np.concatenate([fpr[i] for i in range(n_classes)]))\n",
    "\n",
    "# Then interpolate all ROC curves at this points\n",
    "mean_tpr = np.zeros_like(all_fpr)\n",
    "for i in range(n_classes):\n",
    "    mean_tpr += interp(all_fpr, fpr[i], tpr[i])\n",
    "\n",
    "# Finally average it and compute AUC\n",
    "mean_tpr /= n_classes\n",
    "\n",
    "fpr[\"macro\"] = all_fpr\n",
    "tpr[\"macro\"] = mean_tpr\n",
    "roc_auc[\"macro\"] = auc(fpr[\"macro\"], tpr[\"macro\"])\n",
    "\n",
    "# Plot all ROC curves\n",
    "plt.figure()\n",
    "lw = 2\n",
    "plt.plot(fpr[\"micro\"], tpr[\"micro\"],\n",
    "         label='micro-average ROC curve (area = {0:0.2f})'\n",
    "               ''.format(roc_auc[\"micro\"]),\n",
    "         color='deeppink', linestyle=':', linewidth=4)\n",
    "\n",
    "plt.plot(fpr[\"macro\"], tpr[\"macro\"],\n",
    "         label='macro-average ROC curve (area = {0:0.2f})'\n",
    "               ''.format(roc_auc[\"macro\"]),\n",
    "         color='navy', linestyle=':', linewidth=4)\n",
    "\n",
    "colors = cycle(['aqua', 'darkorange', 'cornflowerblue'])\n",
    "for i, color in zip(range(n_classes), colors):\n",
    "    plt.plot(fpr[i], tpr[i], color=color, lw=lw,\n",
    "             label='ROC curve of class {0} (area = {1:0.2f})'\n",
    "             ''.format(i, roc_auc[i]))\n",
    "\n",
    "plt.plot([0, 1], [0, 1], 'k--', lw=lw)\n",
    "plt.xlim([0.0, 1.0])\n",
    "plt.ylim([0.0, 1.05])\n",
    "plt.xlabel('False Positive Rate')\n",
    "plt.ylabel('True Positive Rate')\n",
    "plt.title('Analisa Sentimen Flashsale Tokopedia')\n",
    "plt.legend(loc=\"lower right\")\n",
    "plt.show()"
   ]
  }
 ],
 "metadata": {
  "kernelspec": {
   "display_name": "Python 3",
   "language": "python",
   "name": "python3"
  },
  "language_info": {
   "codemirror_mode": {
    "name": "ipython",
    "version": 3
   },
   "file_extension": ".py",
   "mimetype": "text/x-python",
   "name": "python",
   "nbconvert_exporter": "python",
   "pygments_lexer": "ipython3",
   "version": "3.7.3"
  }
 },
 "nbformat": 4,
 "nbformat_minor": 2
}
