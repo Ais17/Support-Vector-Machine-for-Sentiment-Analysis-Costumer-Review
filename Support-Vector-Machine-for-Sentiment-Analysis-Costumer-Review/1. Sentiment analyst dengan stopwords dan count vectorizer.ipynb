{
 "cells": [
  {
   "cell_type": "code",
   "execution_count": 71,
   "metadata": {},
   "outputs": [],
   "source": [
    "#import library yang akan dipakai\n",
    "from sklearn.model_selection import train_test_split\n",
    "from sklearn.metrics import accuracy_score\n",
    "from sklearn.naive_bayes import GaussianNB\n",
    "from sklearn.naive_bayes import MultinomialNB\n",
    "from sklearn.metrics import confusion_matrix\n",
    "from sklearn.preprocessing import normalize\n",
    "from sklearn.feature_extraction.text import TfidfVectorizer\n",
    "from sklearn.feature_extraction.text import CountVectorizer\n",
    "from sklearn.linear_model import LinearRegression\n",
    "from sklearn.preprocessing import Imputer\n",
    "from sklearn import preprocessing\n",
    "from nltk.corpus import stopwords\n",
    "from nltk.tokenize import word_tokenize\n",
    "from sklearn.svm import LinearSVC\n",
    "from sklearn.discriminant_analysis import QuadraticDiscriminantAnalysis\n",
    "from sklearn.metrics import confusion_matrix\n",
    "from sklearn.ensemble import RandomForestClassifier, AdaBoostClassifier\n",
    "from sklearn.ensemble import AdaBoostClassifier\n",
    "from sklearn.metrics import classification\n",
    "from sklearn import datasets\n",
    "from sklearn.metrics import classification_report, confusion_matrix\n",
    "from sklearn.model_selection import train_test_split\n",
    "from sklearn import metrics\n",
    "from Sastrawi.StopWordRemover.StopWordRemoverFactory import StopWordRemoverFactory\n",
    "from nltk.stem import PorterStemmer\n",
    "from nltk.tokenize import sent_tokenize, word_tokenize\n",
    "from itertools import cycle\n",
    "from sklearn import svm, datasets\n",
    "from sklearn.metrics import roc_curve, auc\n",
    "from sklearn.model_selection import train_test_split\n",
    "from sklearn.preprocessing import label_binarize\n",
    "from sklearn.multiclass import OneVsRestClassifier\n",
    "from scipy import interp\n",
    "\n",
    "import scipy.stats\n",
    "import nltk\n",
    "import string\n",
    "import sklearn.metrics\n",
    "import pandas as pd\n",
    "from pandas import Series, DataFrame\n",
    "import numpy as np\n",
    "import os\n",
    "import csv\n",
    "import matplotlib.pyplot as plt\n",
    "import nltk"
   ]
  },
  {
   "cell_type": "code",
   "execution_count": 72,
   "metadata": {},
   "outputs": [],
   "source": [
    "#membaca file csv\n",
    "df = pd.read_csv('tokped.csv',encoding='utf-8',error_bad_lines=False)\n",
    "df.Status.replace(['Negativ','Positiv'],[0,1],inplace=True)"
   ]
  },
  {
   "cell_type": "code",
   "execution_count": 73,
   "metadata": {},
   "outputs": [
    {
     "data": {
      "text/html": [
       "<div>\n",
       "<style scoped>\n",
       "    .dataframe tbody tr th:only-of-type {\n",
       "        vertical-align: middle;\n",
       "    }\n",
       "\n",
       "    .dataframe tbody tr th {\n",
       "        vertical-align: top;\n",
       "    }\n",
       "\n",
       "    .dataframe thead th {\n",
       "        text-align: right;\n",
       "    }\n",
       "</style>\n",
       "<table border=\"1\" class=\"dataframe\">\n",
       "  <thead>\n",
       "    <tr style=\"text-align: right;\">\n",
       "      <th></th>\n",
       "      <th>No</th>\n",
       "      <th>Komentar</th>\n",
       "      <th>Status</th>\n",
       "    </tr>\n",
       "  </thead>\n",
       "  <tbody>\n",
       "    <tr>\n",
       "      <th>0</th>\n",
       "      <td>1</td>\n",
       "      <td>dapet mas barang pagi malam dasar anak</td>\n",
       "      <td>0</td>\n",
       "    </tr>\n",
       "    <tr>\n",
       "      <th>1</th>\n",
       "      <td>2</td>\n",
       "      <td>flash sale akalan rajin mantengin jam pagi mal...</td>\n",
       "      <td>0</td>\n",
       "    </tr>\n",
       "    <tr>\n",
       "      <th>2</th>\n",
       "      <td>3</td>\n",
       "      <td>lihat review orang orang pas beli hp harga fla...</td>\n",
       "      <td>1</td>\n",
       "    </tr>\n",
       "    <tr>\n",
       "      <th>3</th>\n",
       "      <td>4</td>\n",
       "      <td>nyobain cuma iseng pembayaran mau jam langsung...</td>\n",
       "      <td>1</td>\n",
       "    </tr>\n",
       "    <tr>\n",
       "      <th>4</th>\n",
       "      <td>5</td>\n",
       "      <td>pemberi harapan palsu doang kena tipu kayak ke...</td>\n",
       "      <td>0</td>\n",
       "    </tr>\n",
       "    <tr>\n",
       "      <th>5</th>\n",
       "      <td>6</td>\n",
       "      <td>bukalapak wkwkw tokopedia ketinggalan ulang ta...</td>\n",
       "      <td>1</td>\n",
       "    </tr>\n",
       "    <tr>\n",
       "      <th>6</th>\n",
       "      <td>7</td>\n",
       "      <td>dapet namanya juga flash sale bawa santai dape...</td>\n",
       "      <td>1</td>\n",
       "    </tr>\n",
       "  </tbody>\n",
       "</table>\n",
       "</div>"
      ],
      "text/plain": [
       "   No                                           Komentar  Status\n",
       "0   1             dapet mas barang pagi malam dasar anak       0\n",
       "1   2  flash sale akalan rajin mantengin jam pagi mal...       0\n",
       "2   3  lihat review orang orang pas beli hp harga fla...       1\n",
       "3   4  nyobain cuma iseng pembayaran mau jam langsung...       1\n",
       "4   5  pemberi harapan palsu doang kena tipu kayak ke...       0\n",
       "5   6  bukalapak wkwkw tokopedia ketinggalan ulang ta...       1\n",
       "6   7  dapet namanya juga flash sale bawa santai dape...       1"
      ]
     },
     "execution_count": 73,
     "metadata": {},
     "output_type": "execute_result"
    }
   ],
   "source": [
    "#memanggil beberapa komentar teratas dari data\n",
    "df.head(7)"
   ]
  },
  {
   "cell_type": "code",
   "execution_count": 74,
   "metadata": {},
   "outputs": [
    {
     "data": {
      "text/plain": [
       "Index(['No', 'Komentar', 'Status'], dtype='object')"
      ]
     },
     "execution_count": 74,
     "metadata": {},
     "output_type": "execute_result"
    }
   ],
   "source": [
    "#memanggil kolom apa saja yang terdapat pada dataset\n",
    "df.columns"
   ]
  },
  {
   "cell_type": "code",
   "execution_count": 75,
   "metadata": {},
   "outputs": [
    {
     "name": "stdout",
     "output_type": "stream",
     "text": [
      "(1225, 3)\n"
     ]
    }
   ],
   "source": [
    "#menampilkan lebar pada dataset\n",
    "print (df.shape)"
   ]
  },
  {
   "cell_type": "code",
   "execution_count": 76,
   "metadata": {},
   "outputs": [
    {
     "name": "stdout",
     "output_type": "stream",
     "text": [
      "        No                            Komentar  Status\n",
      "8        9      ga pernah kebagian astagaaahhh       1\n",
      "1217  1218  coba beli apapun kaga error melulu       0\n"
     ]
    }
   ],
   "source": [
    "#menampilkan salah satu dari data teratas dan data terbawah\n",
    "print (df.iloc[[8, -8]])"
   ]
  },
  {
   "cell_type": "code",
   "execution_count": 77,
   "metadata": {},
   "outputs": [
    {
     "data": {
      "text/plain": [
       "No          0\n",
       "Komentar    0\n",
       "Status      0\n",
       "dtype: int64"
      ]
     },
     "execution_count": 77,
     "metadata": {},
     "output_type": "execute_result"
    }
   ],
   "source": [
    "#menampilkan jumlah missing data pada setiap kolom\n",
    "df.isnull().sum()"
   ]
  },
  {
   "cell_type": "code",
   "execution_count": 78,
   "metadata": {},
   "outputs": [
    {
     "data": {
      "text/html": [
       "<div>\n",
       "<style scoped>\n",
       "    .dataframe tbody tr th:only-of-type {\n",
       "        vertical-align: middle;\n",
       "    }\n",
       "\n",
       "    .dataframe tbody tr th {\n",
       "        vertical-align: top;\n",
       "    }\n",
       "\n",
       "    .dataframe thead th {\n",
       "        text-align: right;\n",
       "    }\n",
       "</style>\n",
       "<table border=\"1\" class=\"dataframe\">\n",
       "  <thead>\n",
       "    <tr style=\"text-align: right;\">\n",
       "      <th></th>\n",
       "      <th>No</th>\n",
       "      <th>Status</th>\n",
       "    </tr>\n",
       "  </thead>\n",
       "  <tbody>\n",
       "    <tr>\n",
       "      <th>count</th>\n",
       "      <td>1225.000000</td>\n",
       "      <td>1225.000000</td>\n",
       "    </tr>\n",
       "    <tr>\n",
       "      <th>mean</th>\n",
       "      <td>613.000000</td>\n",
       "      <td>0.493878</td>\n",
       "    </tr>\n",
       "    <tr>\n",
       "      <th>std</th>\n",
       "      <td>353.771348</td>\n",
       "      <td>0.500167</td>\n",
       "    </tr>\n",
       "    <tr>\n",
       "      <th>min</th>\n",
       "      <td>1.000000</td>\n",
       "      <td>0.000000</td>\n",
       "    </tr>\n",
       "    <tr>\n",
       "      <th>25%</th>\n",
       "      <td>307.000000</td>\n",
       "      <td>0.000000</td>\n",
       "    </tr>\n",
       "    <tr>\n",
       "      <th>50%</th>\n",
       "      <td>613.000000</td>\n",
       "      <td>0.000000</td>\n",
       "    </tr>\n",
       "    <tr>\n",
       "      <th>75%</th>\n",
       "      <td>919.000000</td>\n",
       "      <td>1.000000</td>\n",
       "    </tr>\n",
       "    <tr>\n",
       "      <th>max</th>\n",
       "      <td>1225.000000</td>\n",
       "      <td>1.000000</td>\n",
       "    </tr>\n",
       "  </tbody>\n",
       "</table>\n",
       "</div>"
      ],
      "text/plain": [
       "                No       Status\n",
       "count  1225.000000  1225.000000\n",
       "mean    613.000000     0.493878\n",
       "std     353.771348     0.500167\n",
       "min       1.000000     0.000000\n",
       "25%     307.000000     0.000000\n",
       "50%     613.000000     0.000000\n",
       "75%     919.000000     1.000000\n",
       "max    1225.000000     1.000000"
      ]
     },
     "execution_count": 78,
     "metadata": {},
     "output_type": "execute_result"
    }
   ],
   "source": [
    "#membuang setiap baris yang didalamnya terdapat missing data\n",
    "df_clean = df.dropna()\n",
    "df_clean.describe()"
   ]
  },
  {
   "cell_type": "code",
   "execution_count": 79,
   "metadata": {},
   "outputs": [
    {
     "data": {
      "text/plain": [
       "No                                                          8\n",
       "Komentar    stock tersedia pas bayar tulisan stock habis k...\n",
       "Status                                                      0\n",
       "Name: 7, dtype: object"
      ]
     },
     "execution_count": 79,
     "metadata": {},
     "output_type": "execute_result"
    }
   ],
   "source": [
    "words = df[\"Komentar\"].str.split()\n",
    "df.iloc[7]"
   ]
  },
  {
   "cell_type": "code",
   "execution_count": 80,
   "metadata": {},
   "outputs": [
    {
     "name": "stdout",
     "output_type": "stream",
     "text": [
      "['yang', 'untuk', 'pada', 'ke', 'para', 'namun', 'menurut', 'antara', 'dia', 'dua', 'ia', 'seperti', 'jika', 'jika', 'sehingga', 'kembali', 'dan', 'tidak', 'ini', 'karena', 'kepada', 'oleh', 'saat', 'harus', 'sementara', 'setelah', 'belum', 'kami', 'sekitar', 'bagi', 'serta', 'di', 'dari', 'telah', 'sebagai', 'masih', 'hal', 'ketika', 'adalah', 'itu', 'dalam', 'bisa', 'bahwa', 'atau', 'hanya', 'kita', 'dengan', 'akan', 'juga', 'ada', 'mereka', 'sudah', 'saya', 'terhadap', 'secara', 'agar', 'lain', 'anda', 'begitu', 'mengapa', 'kenapa', 'yaitu', 'yakni', 'daripada', 'itulah', 'lagi', 'maka', 'tentang', 'demi', 'dimana', 'kemana', 'pula', 'sambil', 'sebelum', 'sesudah', 'supaya', 'guna', 'kah', 'pun', 'sampai', 'sedangkan', 'selagi', 'sementara', 'tetapi', 'apakah', 'kecuali', 'sebab', 'selain', 'seolah', 'seraya', 'seterusnya', 'tanpa', 'agak', 'boleh', 'dapat', 'dsb', 'dst', 'dll', 'dahulu', 'dulunya', 'anu', 'demikian', 'tapi', 'ingin', 'juga', 'nggak', 'mari', 'nanti', 'melainkan', 'oh', 'ok', 'seharusnya', 'sebetulnya', 'setiap', 'setidaknya', 'sesuatu', 'pasti', 'saja', 'toh', 'ya', 'walau', 'tolong', 'tentu', 'amat', 'apalagi', 'bagaimanapun']\n"
     ]
    }
   ],
   "source": [
    "#menampilkan kata apa saja yang terdaapat pada stopwords sastrawi\n",
    "factorystop = StopWordRemoverFactory()\n",
    "stopwords = factorystop.get_stop_words()\n",
    "print(stopwords)"
   ]
  },
  {
   "cell_type": "code",
   "execution_count": 81,
   "metadata": {},
   "outputs": [
    {
     "name": "stdout",
     "output_type": "stream",
     "text": [
      "[('amazing', 10), ('dapet', 10), ('transaksi flash sale kemarin pembayaran via bca virtual account dana terpotong sistem error belanjaan stuck cart produk habis hilang skrg dana terpotong cart logo notification dibuka cart kosong mohon kebijakan tokopedia bagaimanakesal', 10), ('ok', 10), ('gagal beli uang toko bayar langsung ditarik saldo trs dibalikin bank dasar anak informasi', 10), ('flash sale akalan rajin mantengin jam pagi malem sampe nyalain alarm tetep zonk server stock habis coba ku kasar wkwkwkekwk', 5), ('pemberi harapan palsu doang kena tipu kayak keledai', 5), ('beneran lihat kepala mata walaubsaya mengakui kalo sedih bete kena marah', 5), ('boicot', 5), ('teflon frame', 5), ('koneksi indomie calon anak ayam kornet stabil bagus', 5), ('lom beruntung kemarin marah hikz', 5), ('norak kali ikutan flash salekesal wkwk', 5), ('barang', 5), ('nature republic', 5)]\n"
     ]
    }
   ],
   "source": [
    "import nltk\n",
    "#nltk.download()\n",
    "from nltk.corpus import stopwords\n",
    "stop = stopwords.words('Indonesian')\n",
    "df[\"Komentar\"] = df[\"Komentar\"].apply(lambda x: ' '.join([word for word in x.split() if word not in (stop)]))\n",
    "df[\"Komentar\"] = df[\"Komentar\"].apply(lambda x: x.lower())\n",
    "all_words = df[\"Komentar\"].str.split()\n",
    "all_words = nltk.FreqDist(df[\"Komentar\"])\n",
    "print(all_words.most_common(15))\n",
    "#df.head(5)"
   ]
  },
  {
   "cell_type": "code",
   "execution_count": 82,
   "metadata": {},
   "outputs": [],
   "source": [
    "# Data training\n",
    "X = df[['Komentar']]\n",
    "Y = df[['Status']]\n",
    "x_train, x_test, y_train, y_test = train_test_split(X['Komentar'],Y['Status'],test_size=0.3,random_state=0) # 70% training and 30% test"
   ]
  },
  {
   "cell_type": "code",
   "execution_count": 83,
   "metadata": {},
   "outputs": [
    {
     "name": "stdout",
     "output_type": "stream",
     "text": [
      "x_train= (857,)\n",
      "x_test= (368,)\n",
      "y_train= (857,)\n",
      "y_test= (368,)\n"
     ]
    }
   ],
   "source": [
    "#Menampilkan jumlah data training dan data testing\n",
    "print('x_train=',x_train.shape)\n",
    "print('x_test=',x_test.shape)\n",
    "print('y_train=',y_train.shape)\n",
    "print('y_test=',y_test.shape)"
   ]
  },
  {
   "cell_type": "code",
   "execution_count": 84,
   "metadata": {},
   "outputs": [
    {
     "name": "stdout",
     "output_type": "stream",
     "text": [
      "0    620\n",
      "1    605\n",
      "Name: Status, dtype: int64\n"
     ]
    }
   ],
   "source": [
    "vec = CountVectorizer(max_features=10000,binary=True)\n",
    "x_train_vect = vec.fit_transform(x_train)\n",
    "counts = df.Status.value_counts()\n",
    "print(counts) # 0 = NEGATIF, 1 = POSITIF"
   ]
  },
  {
   "cell_type": "code",
   "execution_count": 85,
   "metadata": {},
   "outputs": [],
   "source": [
    "vec = CountVectorizer()\n",
    "vec.fit(X['Komentar'])\n",
    "\n",
    "x_train = vec.transform(x_train)\n",
    "\n",
    "x_test = vec.transform(x_test)"
   ]
  },
  {
   "cell_type": "code",
   "execution_count": 86,
   "metadata": {},
   "outputs": [],
   "source": [
    "x_test_vect = x_test\n",
    "y_pred = NB_predicted"
   ]
  },
  {
   "cell_type": "code",
   "execution_count": 87,
   "metadata": {},
   "outputs": [
    {
     "name": "stdout",
     "output_type": "stream",
     "text": [
      "\n",
      "Accuracy of Naive Bayes Classifier:  90.21739130434783 %\n",
      "\n"
     ]
    }
   ],
   "source": [
    "#Menampilkan hasil akurasi klasifikasi Naive Bayes\n",
    "NB = MultinomialNB(alpha=.3)\n",
    "#print(y_train)\n",
    "NB.fit(x_train,y_train)\n",
    "NB_predicted = NB.predict(x_test)\n",
    "NBC = NB.score(x_test,y_test)\n",
    "print(\"\\nAccuracy of Naive Bayes Classifier: \",NBC*100,\"%\\n\")"
   ]
  },
  {
   "cell_type": "code",
   "execution_count": 89,
   "metadata": {},
   "outputs": [
    {
     "name": "stdout",
     "output_type": "stream",
     "text": [
      "[[164  24]\n",
      " [ 12 168]]\n",
      "              precision    recall  f1-score   support\n",
      "\n",
      "           0       0.93      0.87      0.90       188\n",
      "           1       0.88      0.93      0.90       180\n",
      "\n",
      "   micro avg       0.90      0.90      0.90       368\n",
      "   macro avg       0.90      0.90      0.90       368\n",
      "weighted avg       0.90      0.90      0.90       368\n",
      "\n",
      "\n",
      "Accuracy of Linear Support Vector Classifier:  97.82608695652173 %\n",
      "\n"
     ]
    }
   ],
   "source": [
    "S = LinearSVC()\n",
    "S.fit(x_train,y_train)\n",
    "S_predicted = S.predict(x_test)\n",
    "SC = S.score(x_test,y_test)\n",
    "print(confusion_matrix(y_test, y_pred))  \n",
    "print(classification_report(y_test, y_pred))\n",
    "print(\"\\nAccuracy of Linear Support Vector Classifier: \",SC*100,\"%\\n\")"
   ]
  }
 ],
 "metadata": {
  "kernelspec": {
   "display_name": "Python 3",
   "language": "python",
   "name": "python3"
  },
  "language_info": {
   "codemirror_mode": {
    "name": "ipython",
    "version": 3
   },
   "file_extension": ".py",
   "mimetype": "text/x-python",
   "name": "python",
   "nbconvert_exporter": "python",
   "pygments_lexer": "ipython3",
   "version": "3.7.3"
  }
 },
 "nbformat": 4,
 "nbformat_minor": 2
}
